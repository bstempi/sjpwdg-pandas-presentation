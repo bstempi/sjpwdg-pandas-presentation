{
 "cells": [
  {
   "cell_type": "markdown",
   "metadata": {},
   "source": [
    "# Pure Python vs Pandas"
   ]
  },
  {
   "cell_type": "markdown",
   "metadata": {},
   "source": [
    "Let's generate some data:"
   ]
  },
  {
   "cell_type": "code",
   "execution_count": null,
   "metadata": {},
   "outputs": [],
   "source": [
    "rows = [\n",
    "['Aberdeen Township', 18150, 19, 0, 13, 6],\n",
    "['Absecon', 8380, 21, 0, 4, 15],\n",
    "['Allendale', 6712, 0, 0, 0, 0],\n",
    "['Allenhurst', 493, 0, 0, 0, 0],\n",
    "['Allentown', 1812, 3, 0, 0, 3],\n",
    "['Alpine', 2314, 1, 0, 0, 1],\n",
    "['Andover Township', 6273, 1, 0, 0, 1],\n",
    "]\n"
   ]
  },
  {
   "cell_type": "code",
   "execution_count": null,
   "metadata": {},
   "outputs": [],
   "source": [
    "    import pandas as pd\n",
    "\n",
    "    df = pd.DataFrame.from_records(rows, columns=['City', 'Population', 'Violent Crimes', 'Murders', 'Roberies', 'Aggrevated Assaults'])"
   ]
  },
  {
   "cell_type": "markdown",
   "metadata": {},
   "source": [
    "What happens when we try to display our DataFrame?"
   ]
  },
  {
   "cell_type": "code",
   "execution_count": null,
   "metadata": {},
   "outputs": [],
   "source": [
    "df"
   ]
  },
  {
   "cell_type": "markdown",
   "metadata": {},
   "source": [
    "Answers in pure Python:"
   ]
  },
  {
   "cell_type": "code",
   "execution_count": null,
   "metadata": {},
   "outputs": [],
   "source": [
    "# Q1 \n",
    "sum_people = 0\n",
    "sum_violent_crimes = 0\n",
    "for row in rows:\n",
    "\tsum_people += row[1]\n",
    "\tsum_violent_crimes += row[2]\n",
    "\t\n",
    "violent_crimes_ratio = sum_violent_crimes / sum_people\n",
    "violent_crimes_per_thousand_people = violent_crimes_ratio * 1000\n",
    "\n",
    "# Q2\n",
    "sum_aggrevated_assaults = 0\n",
    "sum_violent_crimes = 0\n",
    "for row in rows:\n",
    "\tsum_aggrevated_assaults += row[5]\n",
    "\tsum_violent_crimes += row[2]\n",
    "\t\n",
    "aggrevated_assault_ratio = sum_aggrevated_assaults / sum_violent_crimes\n",
    "\n",
    "# Q3\n",
    "violent_crimes_per_1k_people_per_city = list()\n",
    "for row in rows:\n",
    "\tresult_row = [row[0], 1000 * row[2] / row[1]]\n",
    "\tviolent_crimes_per_1k_people_per_city.append(result_row)\n",
    "\n",
    "violent_crimes_per_thousand_people, aggrevated_assault_ratio, violent_crimes_per_1k_people_per_city"
   ]
  },
  {
   "cell_type": "markdown",
   "metadata": {},
   "source": [
    "Answers in Pandas:"
   ]
  },
  {
   "cell_type": "code",
   "execution_count": null,
   "metadata": {},
   "outputs": [],
   "source": [
    "# Q1\n",
    "violent_crimes_per_thousand_people = 1000 * df['Violent Crimes'].sum() / df['Population'].sum()\n",
    "\n",
    "# Q2\n",
    "aggrevated_assault_ratio = df['Aggrevated Assaults'].sum() / df['Violent Crimes'].sum()\n",
    "\n",
    "# Q3\n",
    "stats_per_city = df.groupby('City').sum()\n",
    "stats_per_city['Violent Crimes Per 1000'] = 1000 * stats_per_city['Violent Crimes'] / stats_per_city['Population']\n",
    "\n",
    "violent_crimes_per_thousand_people, aggrevated_assault_ratio, stats_per_city[['Violent Crimes Per 1000']]"
   ]
  },
  {
   "cell_type": "markdown",
   "metadata": {},
   "source": [
    "Now, for a plot!"
   ]
  },
  {
   "cell_type": "code",
   "execution_count": null,
   "metadata": {},
   "outputs": [],
   "source": [
    "%matplotlib inline\n",
    "import matplotlib.pyplot as plt\n",
    "\n",
    "stats_per_city.plot(y='Violent Crimes Per 1000', kind='bar')"
   ]
  }
 ],
 "metadata": {
  "kernelspec": {
   "display_name": "Python 3",
   "language": "python",
   "name": "python3"
  },
  "language_info": {
   "codemirror_mode": {
    "name": "ipython",
    "version": 3
   },
   "file_extension": ".py",
   "mimetype": "text/x-python",
   "name": "python",
   "nbconvert_exporter": "python",
   "pygments_lexer": "ipython3",
   "version": "3.5.1"
  }
 },
 "nbformat": 4,
 "nbformat_minor": 2
}
