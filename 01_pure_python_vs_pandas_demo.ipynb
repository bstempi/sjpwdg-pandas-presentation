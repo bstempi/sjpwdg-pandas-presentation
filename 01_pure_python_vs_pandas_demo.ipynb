{
 "cells": [
  {
   "cell_type": "markdown",
   "metadata": {},
   "source": [
    "# Pure Python vs Pandas"
   ]
  },
  {
   "cell_type": "markdown",
   "metadata": {},
   "source": [
    "Let's generate some data:"
   ]
  },
  {
   "cell_type": "code",
   "execution_count": 1,
   "metadata": {},
   "outputs": [],
   "source": [
    "rows = [\n",
    "['Aberdeen Township', 18150, 19, 0, 13, 6],\n",
    "['Absecon', 8380, 21, 0, 4, 15],\n",
    "['Allendale', 6712, 0, 0, 0, 0],\n",
    "['Allenhurst', 493, 0, 0, 0, 0],\n",
    "['Allentown', 1812, 3, 0, 0, 3],\n",
    "['Alpine', 2314, 1, 0, 0, 1],\n",
    "['Andover Township', 6273, 1, 0, 0, 1],\n",
    "]\n"
   ]
  },
  {
   "cell_type": "code",
   "execution_count": 2,
   "metadata": {},
   "outputs": [],
   "source": [
    "    import pandas as pd\n",
    "\n",
    "    df = pd.DataFrame.from_records(rows, columns=['City', 'Population', 'Violent Crimes', 'Murders', 'Roberies', 'Aggrevated Assaults'])"
   ]
  },
  {
   "cell_type": "markdown",
   "metadata": {},
   "source": [
    "What happens when we try to display our DataFrame?"
   ]
  },
  {
   "cell_type": "code",
   "execution_count": 3,
   "metadata": {},
   "outputs": [
    {
     "data": {
      "text/html": [
       "<div>\n",
       "<style scoped>\n",
       "    .dataframe tbody tr th:only-of-type {\n",
       "        vertical-align: middle;\n",
       "    }\n",
       "\n",
       "    .dataframe tbody tr th {\n",
       "        vertical-align: top;\n",
       "    }\n",
       "\n",
       "    .dataframe thead th {\n",
       "        text-align: right;\n",
       "    }\n",
       "</style>\n",
       "<table border=\"1\" class=\"dataframe\">\n",
       "  <thead>\n",
       "    <tr style=\"text-align: right;\">\n",
       "      <th></th>\n",
       "      <th>City</th>\n",
       "      <th>Population</th>\n",
       "      <th>Violent Crimes</th>\n",
       "      <th>Murders</th>\n",
       "      <th>Roberies</th>\n",
       "      <th>Aggrevated Assaults</th>\n",
       "    </tr>\n",
       "  </thead>\n",
       "  <tbody>\n",
       "    <tr>\n",
       "      <th>0</th>\n",
       "      <td>Aberdeen Township</td>\n",
       "      <td>18150</td>\n",
       "      <td>19</td>\n",
       "      <td>0</td>\n",
       "      <td>13</td>\n",
       "      <td>6</td>\n",
       "    </tr>\n",
       "    <tr>\n",
       "      <th>1</th>\n",
       "      <td>Absecon</td>\n",
       "      <td>8380</td>\n",
       "      <td>21</td>\n",
       "      <td>0</td>\n",
       "      <td>4</td>\n",
       "      <td>15</td>\n",
       "    </tr>\n",
       "    <tr>\n",
       "      <th>2</th>\n",
       "      <td>Allendale</td>\n",
       "      <td>6712</td>\n",
       "      <td>0</td>\n",
       "      <td>0</td>\n",
       "      <td>0</td>\n",
       "      <td>0</td>\n",
       "    </tr>\n",
       "    <tr>\n",
       "      <th>3</th>\n",
       "      <td>Allenhurst</td>\n",
       "      <td>493</td>\n",
       "      <td>0</td>\n",
       "      <td>0</td>\n",
       "      <td>0</td>\n",
       "      <td>0</td>\n",
       "    </tr>\n",
       "    <tr>\n",
       "      <th>4</th>\n",
       "      <td>Allentown</td>\n",
       "      <td>1812</td>\n",
       "      <td>3</td>\n",
       "      <td>0</td>\n",
       "      <td>0</td>\n",
       "      <td>3</td>\n",
       "    </tr>\n",
       "    <tr>\n",
       "      <th>5</th>\n",
       "      <td>Alpine</td>\n",
       "      <td>2314</td>\n",
       "      <td>1</td>\n",
       "      <td>0</td>\n",
       "      <td>0</td>\n",
       "      <td>1</td>\n",
       "    </tr>\n",
       "    <tr>\n",
       "      <th>6</th>\n",
       "      <td>Andover Township</td>\n",
       "      <td>6273</td>\n",
       "      <td>1</td>\n",
       "      <td>0</td>\n",
       "      <td>0</td>\n",
       "      <td>1</td>\n",
       "    </tr>\n",
       "  </tbody>\n",
       "</table>\n",
       "</div>"
      ],
      "text/plain": [
       "                City  Population  Violent Crimes  Murders  Roberies  \\\n",
       "0  Aberdeen Township       18150              19        0        13   \n",
       "1            Absecon        8380              21        0         4   \n",
       "2          Allendale        6712               0        0         0   \n",
       "3         Allenhurst         493               0        0         0   \n",
       "4          Allentown        1812               3        0         0   \n",
       "5             Alpine        2314               1        0         0   \n",
       "6   Andover Township        6273               1        0         0   \n",
       "\n",
       "   Aggrevated Assaults  \n",
       "0                    6  \n",
       "1                   15  \n",
       "2                    0  \n",
       "3                    0  \n",
       "4                    3  \n",
       "5                    1  \n",
       "6                    1  "
      ]
     },
     "execution_count": 3,
     "metadata": {},
     "output_type": "execute_result"
    }
   ],
   "source": [
    "df"
   ]
  },
  {
   "cell_type": "markdown",
   "metadata": {},
   "source": [
    "Answers in pure Python:"
   ]
  },
  {
   "cell_type": "code",
   "execution_count": 4,
   "metadata": {},
   "outputs": [
    {
     "data": {
      "text/plain": [
       "(1.0196220600897268,\n",
       " 0.5777777777777777,\n",
       " [['Aberdeen Township', 1.046831955922865],\n",
       "  ['Absecon', 2.5059665871121717],\n",
       "  ['Allendale', 0.0],\n",
       "  ['Allenhurst', 0.0],\n",
       "  ['Allentown', 1.6556291390728477],\n",
       "  ['Alpine', 0.43215211754537597],\n",
       "  ['Andover Township', 0.15941335883947075]])"
      ]
     },
     "execution_count": 4,
     "metadata": {},
     "output_type": "execute_result"
    }
   ],
   "source": [
    "# Q1 \n",
    "sum_people = 0\n",
    "sum_violent_crimes = 0\n",
    "for row in rows:\n",
    "\tsum_people += row[1]\n",
    "\tsum_violent_crimes += row[2]\n",
    "\t\n",
    "violent_crimes_ratio = sum_violent_crimes / sum_people\n",
    "violent_crimes_per_thousand_people = violent_crimes_ratio * 1000\n",
    "\n",
    "# Q2\n",
    "sum_aggrevated_assaults = 0\n",
    "sum_violent_crimes = 0\n",
    "for row in rows:\n",
    "\tsum_aggrevated_assaults += row[5]\n",
    "\tsum_violent_crimes += row[2]\n",
    "\t\n",
    "aggrevated_assault_ratio = sum_aggrevated_assaults / sum_violent_crimes\n",
    "\n",
    "# Q3\n",
    "violent_crimes_per_1k_people_per_city = list()\n",
    "for row in rows:\n",
    "\tresult_row = [row[0], 1000 * row[2] / row[1]]\n",
    "\tviolent_crimes_per_1k_people_per_city.append(result_row)\n",
    "\n",
    "violent_crimes_per_thousand_people, aggrevated_assault_ratio, violent_crimes_per_1k_people_per_city"
   ]
  },
  {
   "cell_type": "markdown",
   "metadata": {},
   "source": [
    "Answers in Pandas:"
   ]
  },
  {
   "cell_type": "code",
   "execution_count": 5,
   "metadata": {},
   "outputs": [
    {
     "data": {
      "text/plain": [
       "(1.0196220600897268,\n",
       " 0.5777777777777777,\n",
       "                    Violent Crimes Per 1000\n",
       " City                                      \n",
       " Aberdeen Township                 1.046832\n",
       " Absecon                           2.505967\n",
       " Allendale                         0.000000\n",
       " Allenhurst                        0.000000\n",
       " Allentown                         1.655629\n",
       " Alpine                            0.432152\n",
       " Andover Township                  0.159413)"
      ]
     },
     "execution_count": 5,
     "metadata": {},
     "output_type": "execute_result"
    }
   ],
   "source": [
    "# Q1\n",
    "violent_crimes_per_thousand_people = 1000 * df['Violent Crimes'].sum() / df['Population'].sum()\n",
    "\n",
    "# Q2\n",
    "aggrevated_assault_ratio = df['Aggrevated Assaults'].sum() / df['Violent Crimes'].sum()\n",
    "\n",
    "# Q3\n",
    "stats_per_city = df.groupby('City').sum()\n",
    "stats_per_city['Violent Crimes Per 1000'] = 1000 * stats_per_city['Violent Crimes'] / stats_per_city['Population']\n",
    "\n",
    "violent_crimes_per_thousand_people, aggrevated_assault_ratio, stats_per_city[['Violent Crimes Per 1000']]"
   ]
  },
  {
   "cell_type": "markdown",
   "metadata": {},
   "source": [
    "Now, for a plot!"
   ]
  },
  {
   "cell_type": "code",
   "execution_count": 6,
   "metadata": {},
   "outputs": [
    {
     "data": {
      "text/plain": [
       "<matplotlib.axes._subplots.AxesSubplot at 0x10d591438>"
      ]
     },
     "execution_count": 6,
     "metadata": {},
     "output_type": "execute_result"
    },
    {
     "data": {
      "image/png": "[encoded data removed]",
      "text/plain": [
       "<matplotlib.figure.Figure at 0x10d514d68>"
      ]
     },
     "metadata": {},
     "output_type": "display_data"
    }
   ],
   "source": [
    "%matplotlib inline\n",
    "import matplotlib.pyplot as plt\n",
    "\n",
    "stats_per_city.plot(y='Violent Crimes Per 1000', kind='bar')"
   ]
  }
 ],
 "metadata": {
  "kernelspec": {
   "display_name": "Python 3",
   "language": "python",
   "name": "python3"
  },
  "language_info": {
   "codemirror_mode": {
    "name": "ipython",
    "version": 3
   },
   "file_extension": ".py",
   "mimetype": "text/x-python",
   "name": "python",
   "nbconvert_exporter": "python",
   "pygments_lexer": "ipython3",
   "version": "3.5.1"
  }
 },
 "nbformat": 4,
 "nbformat_minor": 2
}
