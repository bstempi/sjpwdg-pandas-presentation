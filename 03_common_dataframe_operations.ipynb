{
 "cells": [
  {
   "cell_type": "markdown",
   "metadata": {},
   "source": [
    "# Common DataFrame Operations"
   ]
  },
  {
   "cell_type": "markdown",
   "metadata": {},
   "source": [
    "Let's go ahead and import Pandas and import some data:"
   ]
  },
  {
   "cell_type": "code",
   "execution_count": null,
   "metadata": {},
   "outputs": [],
   "source": [
    "import pandas as pd\n",
    "\n",
    "rows = [\n",
    "['Aberdeen Township', 18150, 19, 0, 13, 6],\n",
    "['Absecon', 8380, 21, 0, 4, 15],\n",
    "['Allendale', 6712, 0, 0, 0, 0],\n",
    "['Allenhurst', 493, 0, 0, 0, 0],\n",
    "['Allentown', 1812, 3, 0, 0, 3],\n",
    "['Alpine', 2314, 1, 0, 0, 1],\n",
    "['Andover Township', 6273, 1, 0, 0, 1],\n",
    "]\n",
    "df = pd.DataFrame.from_records(rows, columns=['City', 'Population', 'Violent Crimes', 'Murders', 'Roberies', 'Aggrevated Assaults'])\n",
    "\n",
    "df"
   ]
  },
  {
   "cell_type": "markdown",
   "metadata": {},
   "source": [
    "We're going to demonstrate a few of the basic things Pandas can do with a `DataFrame`.\n",
    "======\n",
    "\n",
    "A complete list can be found [here](http://pandas.pydata.org/pandas-docs/stable/generated/pandas.DataFrame.html)."
   ]
  },
  {
   "cell_type": "markdown",
   "metadata": {},
   "source": [
    "## Functions that Operate on the Entire DF"
   ]
  },
  {
   "cell_type": "code",
   "execution_count": null,
   "metadata": {},
   "outputs": [],
   "source": [
    "df.sum()"
   ]
  },
  {
   "cell_type": "markdown",
   "metadata": {},
   "source": [
    "## Grouping and Indexing\n",
    "\n",
    "Sometimes, it's useful to group data.  Sometimes parts of that data aren't really data per se, but rather labels.  In our case, `City` is a label.  It looking at the previous cell, it doesn't make much sense to treat like data.  To handle this, Pandas gives us `index`es to express that some of these labels aren't meant to be operated on."
   ]
  },
  {
   "cell_type": "code",
   "execution_count": null,
   "metadata": {},
   "outputs": [],
   "source": [
    "df = df.set_index(['City', ])\n",
    "\n",
    "df"
   ]
  },
  {
   "cell_type": "code",
   "execution_count": null,
   "metadata": {},
   "outputs": [],
   "source": [
    "df.sum()"
   ]
  },
  {
   "cell_type": "code",
   "execution_count": null,
   "metadata": {},
   "outputs": [],
   "source": [
    "df['Cohort'] = df['Population'].apply(lambda x: 'A' if x > 5000 else 'B')\n",
    "\n",
    "df"
   ]
  },
  {
   "cell_type": "code",
   "execution_count": null,
   "metadata": {},
   "outputs": [],
   "source": [
    "df.groupby('Cohort').sum()"
   ]
  },
  {
   "cell_type": "code",
   "execution_count": null,
   "metadata": {},
   "outputs": [],
   "source": [
    "%matplotlib inline\n",
    "import matplotlib.pyplot as plt\n",
    "\n",
    "cohort_df = df.groupby('Cohort').sum()\n",
    "cohort_df = cohort_df.drop('Population', axis=1)\n",
    "cohort_df.plot(kind='bar')"
   ]
  }
 ],
 "metadata": {
  "kernelspec": {
   "display_name": "Python 3",
   "language": "python",
   "name": "python3"
  },
  "language_info": {
   "codemirror_mode": {
    "name": "ipython",
    "version": 3
   },
   "file_extension": ".py",
   "mimetype": "text/x-python",
   "name": "python",
   "nbconvert_exporter": "python",
   "pygments_lexer": "ipython3",
   "version": "3.5.1"
  }
 },
 "nbformat": 4,
 "nbformat_minor": 2
}
