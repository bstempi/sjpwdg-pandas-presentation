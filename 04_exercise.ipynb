{
 "cells": [
  {
   "cell_type": "markdown",
   "metadata": {},
   "source": [
    "Exercise Time\n",
    "=============\n",
    "\n",
    "We're going to put our little bit of knowledge to use and try to see if we can't mine some data out of a dataset.  I'll give you the code to read in the file and a few questions, and you will create a notebook to try to complete them.\n",
    "\n",
    "This message will self-destruct in 30 seconds."
   ]
  },
  {
   "cell_type": "markdown",
   "metadata": {},
   "source": [
    "We're going to load up some data from the FBI UCR (Uniform Crime Reporting) dataset.  The following CSV file that is being loaded is adapted from [this page](https://ucr.fbi.gov/crime-in-the-u.s/2016/crime-in-the-u.s.-2016/tables/table-6/table-6-state-cuts/new-jersey.xls)."
   ]
  },
  {
   "cell_type": "code",
   "execution_count": null,
   "metadata": {},
   "outputs": [],
   "source": [
    "import pandas as pd\n",
    "\n",
    "df = pd.read_csv('new-jersey-crime.csv', header=0, index_col=0)\n",
    "\n",
    "df"
   ]
  },
  {
   "cell_type": "markdown",
   "metadata": {},
   "source": [
    "Question 1\n",
    "----------\n",
    "\n",
    "What are the totals for each category of crime?"
   ]
  },
  {
   "cell_type": "markdown",
   "metadata": {},
   "source": [
    "Question 2\n",
    "----------\n",
    "\n",
    "What is the arson rate for each city? (per 1000 citizens)"
   ]
  },
  {
   "cell_type": "markdown",
   "metadata": {},
   "source": [
    "Question 3\n",
    "----------\n",
    "\n",
    "How does the violent crime rate coorolate to the property crime rate?  Show results for the total population and for each city."
   ]
  },
  {
   "cell_type": "markdown",
   "metadata": {},
   "source": [
    "Question 4\n",
    "----------\n",
    "\n",
    "Split your data into 4 equal sized cohorts by population (hint:  check out `qcut`).  How do the crime rates of each cohort compare?"
   ]
  }
 ],
 "metadata": {
  "kernelspec": {
   "display_name": "Python 3",
   "language": "python",
   "name": "python3"
  },
  "language_info": {
   "codemirror_mode": {
    "name": "ipython",
    "version": 3
   },
   "file_extension": ".py",
   "mimetype": "text/x-python",
   "name": "python",
   "nbconvert_exporter": "python",
   "pygments_lexer": "ipython3",
   "version": "3.5.1"
  }
 },
 "nbformat": 4,
 "nbformat_minor": 2
}
